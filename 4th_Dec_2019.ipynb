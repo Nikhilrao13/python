{
  "nbformat": 4,
  "nbformat_minor": 0,
  "metadata": {
    "colab": {
      "name": "4th Dec 2019",
      "provenance": []
    },
    "kernelspec": {
      "name": "python3",
      "display_name": "Python 3"
    }
  },
  "cells": [
    {
      "cell_type": "code",
      "metadata": {
        "id": "v1hXZlQOBn3z",
        "colab_type": "code",
        "outputId": "62647a35-6bd7-466c-b609-24ec49de81ba",
        "colab": {
          "base_uri": "https://localhost:8080/",
          "height": 34
        }
      },
      "source": [
        "x=10\n",
        "print(x)"
      ],
      "execution_count": 0,
      "outputs": [
        {
          "output_type": "stream",
          "text": [
            "10\n"
          ],
          "name": "stdout"
        }
      ]
    },
    {
      "cell_type": "code",
      "metadata": {
        "id": "Ps4tLuUuByYk",
        "colab_type": "code",
        "outputId": "e1251bf5-da1f-4355-b8e1-b517f1fa2cbf",
        "colab": {
          "base_uri": "https://localhost:8080/",
          "height": 34
        }
      },
      "source": [
        "a=10\n",
        "b=20\n",
        "c=a+b\n",
        "print(c)"
      ],
      "execution_count": 0,
      "outputs": [
        {
          "output_type": "stream",
          "text": [
            "30\n"
          ],
          "name": "stdout"
        }
      ]
    },
    {
      "cell_type": "code",
      "metadata": {
        "id": "rjoff5gECA5W",
        "colab_type": "code",
        "colab": {}
      },
      "source": [
        ""
      ],
      "execution_count": 0,
      "outputs": []
    },
    {
      "cell_type": "markdown",
      "metadata": {
        "id": "fJSyvaiNDJaj",
        "colab_type": "text"
      },
      "source": [
        "###functional programing\n",
        "1. simple\n",
        "2. easy to understand \n",
        "3. better reuseability\n",
        "4. length of program will be divided into sub program"
      ]
    },
    {
      "cell_type": "code",
      "metadata": {
        "id": "mTXSxoCYEhIj",
        "colab_type": "code",
        "colab": {}
      },
      "source": [
        "def nameoffunction(<parameters>):\n",
        "    statements \n",
        "    return"
      ],
      "execution_count": 0,
      "outputs": []
    },
    {
      "cell_type": "code",
      "metadata": {
        "id": "cW-JvcbkE-_s",
        "colab_type": "code",
        "outputId": "f6b31239-7810-45c3-933c-96ba412db8bc",
        "colab": {
          "base_uri": "https://localhost:8080/",
          "height": 34
        }
      },
      "source": [
        "def evendigitsum(n):\n",
        "    s=0\n",
        "    while n != 0:\n",
        "      r = n % 10\n",
        "      if r % 2 ==0:\n",
        "          s = s + r\n",
        "      n = n // 10\n",
        "    return s\n",
        "evendigitsum(1234)\n"
      ],
      "execution_count": 0,
      "outputs": [
        {
          "output_type": "execute_result",
          "data": {
            "text/plain": [
              "6"
            ]
          },
          "metadata": {
            "tags": []
          },
          "execution_count": 6
        }
      ]
    },
    {
      "cell_type": "code",
      "metadata": {
        "id": "NBERE42qHnEB",
        "colab_type": "code",
        "outputId": "716b7260-cd19-403b-be31-c7b2bc033683",
        "colab": {
          "base_uri": "https://localhost:8080/",
          "height": 51
        }
      },
      "source": [
        "def square(x):\n",
        "    print(x*x)\n",
        "print(square(4))"
      ],
      "execution_count": 0,
      "outputs": [
        {
          "output_type": "stream",
          "text": [
            "16\n",
            "None\n"
          ],
          "name": "stdout"
        }
      ]
    },
    {
      "cell_type": "code",
      "metadata": {
        "id": "4-vTNU7cIOie",
        "colab_type": "code",
        "outputId": "5730952d-7842-4344-bbdd-5644bc75382b",
        "colab": {
          "base_uri": "https://localhost:8080/",
          "height": 34
        }
      },
      "source": [
        "def square(x):\n",
        "    return x*x\n",
        "square(3)\n"
      ],
      "execution_count": 0,
      "outputs": [
        {
          "output_type": "execute_result",
          "data": {
            "text/plain": [
              "9"
            ]
          },
          "metadata": {
            "tags": []
          },
          "execution_count": 9
        }
      ]
    },
    {
      "cell_type": "code",
      "metadata": {
        "id": "YNs7HKevImqk",
        "colab_type": "code",
        "outputId": "33d8e784-7218-4089-e843-93e10440c8c1",
        "colab": {
          "base_uri": "https://localhost:8080/",
          "height": 51
        }
      },
      "source": [
        "def cube(x):\n",
        "    print(x*x*x)\n",
        "print(cube(4))"
      ],
      "execution_count": 0,
      "outputs": [
        {
          "output_type": "stream",
          "text": [
            "64\n",
            "None\n"
          ],
          "name": "stdout"
        }
      ]
    },
    {
      "cell_type": "code",
      "metadata": {
        "id": "wnzoGnQ3JH4D",
        "colab_type": "code",
        "outputId": "ffbbdefb-8cd8-45f2-d4f1-3b2f66e82f43",
        "colab": {
          "base_uri": "https://localhost:8080/",
          "height": 34
        }
      },
      "source": [
        "def cube(x):\n",
        "    return x*x*x\n",
        "cube(13)"
      ],
      "execution_count": 0,
      "outputs": [
        {
          "output_type": "execute_result",
          "data": {
            "text/plain": [
              "2197"
            ]
          },
          "metadata": {
            "tags": []
          },
          "execution_count": 11
        }
      ]
    },
    {
      "cell_type": "code",
      "metadata": {
        "id": "djU28DcsJdZb",
        "colab_type": "code",
        "outputId": "522d74b8-a9f9-471a-b3a3-ea68199964ed",
        "colab": {
          "base_uri": "https://localhost:8080/",
          "height": 68
        }
      },
      "source": [
        "def multiply(x,y=0):\n",
        "    print(\"valve of x=\",x)\n",
        "    print(\"value of y=\",y)\n",
        "    return(x*y)\n",
        "print(multiply(y=2,x=4))"
      ],
      "execution_count": 0,
      "outputs": [
        {
          "output_type": "stream",
          "text": [
            "valve of x= 4\n",
            "value of y= 2\n",
            "8\n"
          ],
          "name": "stdout"
        }
      ]
    },
    {
      "cell_type": "code",
      "metadata": {
        "id": "uqpkrVxFK4BE",
        "colab_type": "code",
        "outputId": "1b104d58-9441-4443-fe1f-00f99d45cbdf",
        "colab": {
          "base_uri": "https://localhost:8080/",
          "height": 34
        }
      },
      "source": [
        "def swap(x,y):\n",
        "  temp = x\n",
        "  x=y\n",
        "  y = temp\n",
        "  return (x,y)\n",
        "swap(9,3)"
      ],
      "execution_count": 0,
      "outputs": [
        {
          "output_type": "execute_result",
          "data": {
            "text/plain": [
              "(3, 9)"
            ]
          },
          "metadata": {
            "tags": []
          },
          "execution_count": 14
        }
      ]
    },
    {
      "cell_type": "code",
      "metadata": {
        "id": "LrPSBFRgMrQ9",
        "colab_type": "code",
        "outputId": "f8c2f5a0-e008-48b8-fe0c-52fa2bf8376d",
        "colab": {
          "base_uri": "https://localhost:8080/",
          "height": 34
        }
      },
      "source": [
        "def largedigit(n):\n",
        "    large = 0\n",
        "    while n!=0:\n",
        "        r=n%10\n",
        "        if large < r:\n",
        "            large = r\n",
        "        n=n//10\n",
        "    return large\n",
        "largedigit(19535)"
      ],
      "execution_count": 0,
      "outputs": [
        {
          "output_type": "execute_result",
          "data": {
            "text/plain": [
              "9"
            ]
          },
          "metadata": {
            "tags": []
          },
          "execution_count": 16
        }
      ]
    },
    {
      "cell_type": "code",
      "metadata": {
        "id": "RdxTE51gRW_y",
        "colab_type": "code",
        "outputId": "a34e4afe-4826-4a53-ce73-b182c0d6871d",
        "colab": {
          "base_uri": "https://localhost:8080/",
          "height": 34
        }
      },
      "source": [
        "def printseries(lb,ub):\n",
        "    for x in range(lb,ub+1):\n",
        "        print(x,end = ' ')\n",
        "    return\n",
        "printseries(1,10)"
      ],
      "execution_count": 0,
      "outputs": [
        {
          "output_type": "stream",
          "text": [
            "1 2 3 4 5 6 7 8 9 10 "
          ],
          "name": "stdout"
        }
      ]
    },
    {
      "cell_type": "markdown",
      "metadata": {
        "id": "9dbXiV6KWWj6",
        "colab_type": "text"
      },
      "source": [
        "#Collection type\n",
        "1. list\n",
        "2. tuple\n",
        "3. set\n",
        "4. dictionary"
      ]
    },
    {
      "cell_type": "markdown",
      "metadata": {
        "id": "lRAQqbVNW2ek",
        "colab_type": "text"
      },
      "source": [
        "###List\n",
        "- one of the data structure is python.\n",
        "- Data structure means to store , sort and search options. \n",
        "- Its one common data structure in python, the items of list seperated by comma and enclosed in square brackets."
      ]
    },
    {
      "cell_type": "code",
      "metadata": {
        "id": "2kdMoZsvY0l0",
        "colab_type": "code",
        "outputId": "dec297a1-8dd4-4187-900c-9366102e6365",
        "colab": {
          "base_uri": "https://localhost:8080/",
          "height": 102
        }
      },
      "source": [
        "li = [1,8,16,9,2]\n",
        "print(li)\n",
        "print(li[0])\n",
        "print(li[1])\n",
        "print(li[-5])\n",
        "print(li[2:])"
      ],
      "execution_count": 0,
      "outputs": [
        {
          "output_type": "stream",
          "text": [
            "[1, 8, 16, 9, 2]\n",
            "1\n",
            "8\n",
            "1\n",
            "[16, 9, 2]\n"
          ],
          "name": "stdout"
        }
      ]
    },
    {
      "cell_type": "code",
      "metadata": {
        "id": "tRuqu388ZYKt",
        "colab_type": "code",
        "colab": {}
      },
      "source": [
        ""
      ],
      "execution_count": 0,
      "outputs": []
    }
  ]
}