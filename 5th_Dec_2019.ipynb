{
  "nbformat": 4,
  "nbformat_minor": 0,
  "metadata": {
    "colab": {
      "name": "5th Dec 2019",
      "provenance": []
    },
    "kernelspec": {
      "name": "python3",
      "display_name": "Python 3"
    }
  },
  "cells": [
    {
      "cell_type": "code",
      "metadata": {
        "id": "cLQf3kZXLHEK",
        "colab_type": "code",
        "outputId": "8a61c9ce-8b0a-4d0d-cb5b-57d6a5da3120",
        "colab": {
          "base_uri": "https://localhost:8080/",
          "height": 85
        }
      },
      "source": [
        "li = [1,9,16,25,5]\n",
        "print(max(li))\n",
        "print(min(li))\n",
        "print(sum(li))\n",
        "print(sum(li)//len(li))"
      ],
      "execution_count": 0,
      "outputs": [
        {
          "output_type": "stream",
          "text": [
            "25\n",
            "1\n",
            "56\n",
            "11\n"
          ],
          "name": "stdout"
        }
      ]
    },
    {
      "cell_type": "code",
      "metadata": {
        "id": "REtOrgImLw61",
        "colab_type": "code",
        "outputId": "3e63ce3c-71fd-49a1-b0a3-851300ea9e9e",
        "colab": {
          "base_uri": "https://localhost:8080/",
          "height": 51
        }
      },
      "source": [
        "li = [1,9,16,25,5]\n",
        "li.append(29)\n",
        "li.insert(2,56)\n",
        "print(li)\n",
        "li.count(9)\n",
        "li.index(56)"
      ],
      "execution_count": 0,
      "outputs": [
        {
          "output_type": "stream",
          "text": [
            "[1, 9, 56, 16, 25, 5, 29]\n"
          ],
          "name": "stdout"
        },
        {
          "output_type": "execute_result",
          "data": {
            "text/plain": [
              "2"
            ]
          },
          "metadata": {
            "tags": []
          },
          "execution_count": 5
        }
      ]
    },
    {
      "cell_type": "code",
      "metadata": {
        "id": "nCkWMzePNjY6",
        "colab_type": "code",
        "outputId": "be6c16c2-8eb6-4202-f56c-29f91bb856f5",
        "colab": {
          "base_uri": "https://localhost:8080/",
          "height": 34
        }
      },
      "source": [
        "li = [1,9,16,56,25,5,9]\n",
        "li.sort()\n",
        "li"
      ],
      "execution_count": 0,
      "outputs": [
        {
          "output_type": "execute_result",
          "data": {
            "text/plain": [
              "[1, 5, 9, 9, 16, 25, 56]"
            ]
          },
          "metadata": {
            "tags": []
          },
          "execution_count": 6
        }
      ]
    },
    {
      "cell_type": "code",
      "metadata": {
        "id": "sggurw5sPU_I",
        "colab_type": "code",
        "outputId": "8d021703-29c9-4bc0-d4c3-4cc5d460fc3d",
        "colab": {
          "base_uri": "https://localhost:8080/",
          "height": 34
        }
      },
      "source": [
        "li.pop(1)\n",
        "print(li)"
      ],
      "execution_count": 0,
      "outputs": [
        {
          "output_type": "stream",
          "text": [
            "[1, 9, 9, 16, 25, 56]\n"
          ],
          "name": "stdout"
        }
      ]
    },
    {
      "cell_type": "code",
      "metadata": {
        "id": "4BzpGxkrP0q_",
        "colab_type": "code",
        "outputId": "476e3a60-3bd5-4e55-e488-fa04a2117c61",
        "colab": {
          "base_uri": "https://localhost:8080/",
          "height": 34
        }
      },
      "source": [
        "li1 = [1,6,19,25]\n",
        "li.extend(li1)\n",
        "li"
      ],
      "execution_count": 0,
      "outputs": [
        {
          "output_type": "execute_result",
          "data": {
            "text/plain": [
              "[1, 9, 9, 16, 25, 56, 1, 6, 19, 25, 1, 6, 19, 25, 1, 6, 19, 25]"
            ]
          },
          "metadata": {
            "tags": []
          },
          "execution_count": 12
        }
      ]
    },
    {
      "cell_type": "code",
      "metadata": {
        "id": "GLSBSrt5RExz",
        "colab_type": "code",
        "outputId": "91a98293-e366-43b3-c42b-2150fb575eea",
        "colab": {
          "base_uri": "https://localhost:8080/",
          "height": 34
        }
      },
      "source": [
        "li1 = [1,6,19,25]\n",
        "li1.reverse()\n",
        "li1"
      ],
      "execution_count": 0,
      "outputs": [
        {
          "output_type": "execute_result",
          "data": {
            "text/plain": [
              "[25, 19, 6, 1]"
            ]
          },
          "metadata": {
            "tags": []
          },
          "execution_count": 9
        }
      ]
    },
    {
      "cell_type": "code",
      "metadata": {
        "id": "7PoExE2XR9y4",
        "colab_type": "code",
        "outputId": "172dd93b-7407-4bc5-aee0-604635f3d15c",
        "colab": {
          "base_uri": "https://localhost:8080/",
          "height": 51
        }
      },
      "source": [
        "def largenumber(li):\n",
        "    li.sort()\n",
        "    return li[-1]\n",
        "def genericlarge(li,n):\n",
        "    li.sort()\n",
        "    return li[-n]\n",
        "li = [19,1,25,6,9,45,22]\n",
        "print(largenumber(li))\n",
        "print(genericlarge(li,3))"
      ],
      "execution_count": 0,
      "outputs": [
        {
          "output_type": "stream",
          "text": [
            "45\n",
            "22\n"
          ],
          "name": "stdout"
        }
      ]
    },
    {
      "cell_type": "code",
      "metadata": {
        "id": "91IKfg66TSPZ",
        "colab_type": "code",
        "outputId": "b877f7ee-0b9d-48ce-82bf-f7f49d79d00b",
        "colab": {
          "base_uri": "https://localhost:8080/",
          "height": 51
        }
      },
      "source": [
        "def smallnumber(li):\n",
        "    li.sort()\n",
        "    return li[0]\n",
        "def genericsmall(li,n):\n",
        "    li.sort()\n",
        "    return li[n-1]\n",
        "li = [19,1,25,6,9,45,22]\n",
        "print(smallnumber(li))\n",
        "print(genericsmall(li,3))"
      ],
      "execution_count": 0,
      "outputs": [
        {
          "output_type": "stream",
          "text": [
            "1\n",
            "9\n"
          ],
          "name": "stdout"
        }
      ]
    },
    {
      "cell_type": "markdown",
      "metadata": {
        "id": "PznYSK0qZeMB",
        "colab_type": "text"
      },
      "source": [
        "##Tuples\n",
        "- Parenthesis ( ) ---->Tuple and square brackets[ ] ---->List.\n",
        "- Difference between list and tuples\n",
        "     - List are mutable - can be changed/modified.\n",
        "     - Used to access and modify,add,del data.\n",
        "     - Tuples are unmutable - cannot be changed.\n",
        "     - Used to access data only"
      ]
    },
    {
      "cell_type": "code",
      "metadata": {
        "id": "EYCdgHG5bWcK",
        "colab_type": "code",
        "outputId": "4af2ebd1-795b-4e31-fa1a-c6ffee845aca",
        "colab": {
          "base_uri": "https://localhost:8080/",
          "height": 34
        }
      },
      "source": [
        "t1 = (1,2,3,4,5,6)\n",
        "t1\n",
        "print(type(t1),t1[1:6])"
      ],
      "execution_count": 0,
      "outputs": [
        {
          "output_type": "stream",
          "text": [
            "<class 'tuple'> (2, 3, 4, 5, 6)\n"
          ],
          "name": "stdout"
        }
      ]
    },
    {
      "cell_type": "markdown",
      "metadata": {
        "id": "SxPhgRx2dE5s",
        "colab_type": "text"
      },
      "source": [
        "## Dictionaries\n",
        "1. It works on the concept of set unique data.\n",
        "2. Keys, values is the unique identifier for the value.\n",
        "3. Each key is seperated......."
      ]
    },
    {
      "cell_type": "code",
      "metadata": {
        "id": "dCrK6jJoej_Z",
        "colab_type": "code",
        "outputId": "8b1c1e52-dc4a-42d0-c2f2-b06438ab44f4",
        "colab": {
          "base_uri": "https://localhost:8080/",
          "height": 34
        }
      },
      "source": [
        "d1 = {\"name\":\"gitam\",\"email id\":\"gitam@gmail.com\",\"address\":\"Hyd\"}\n",
        "d1"
      ],
      "execution_count": 0,
      "outputs": [
        {
          "output_type": "execute_result",
          "data": {
            "text/plain": [
              "{'address': 'Hyd', 'email id': 'gitam@gmail.com', 'name': 'gitam'}"
            ]
          },
          "metadata": {
            "tags": []
          },
          "execution_count": 47
        }
      ]
    },
    {
      "cell_type": "markdown",
      "metadata": {
        "id": "QpI61HlYjvZX",
        "colab_type": "text"
      },
      "source": [
        "##Strings\n",
        "- strings\n",
        "- string slicings\n",
        "- fundamental program with string in python"
      ]
    },
    {
      "cell_type": "code",
      "metadata": {
        "id": "EednJMjVera4",
        "colab_type": "code",
        "outputId": "55ef539e-5a0f-41df-b5d6-75df49f61e4d",
        "colab": {
          "base_uri": "https://localhost:8080/",
          "height": 85
        }
      },
      "source": [
        "s1 = 'python'\n",
        "print(s1[0])\n",
        "print(s1[1])\n",
        "print(s1[5])\n",
        "print(s1[len(s1)-1])"
      ],
      "execution_count": 0,
      "outputs": [
        {
          "output_type": "stream",
          "text": [
            "p\n",
            "y\n",
            "n\n",
            "n\n"
          ],
          "name": "stdout"
        }
      ]
    },
    {
      "cell_type": "code",
      "metadata": {
        "id": "3NeQFPVrq4uC",
        "colab_type": "code",
        "outputId": "ef7c807c-7d8c-4024-89ca-6daaa50af8c6",
        "colab": {
          "base_uri": "https://localhost:8080/",
          "height": 136
        }
      },
      "source": [
        "  s1='Python'\n",
        "print(s1[1:-1])            #printing all the characters except first and last\n",
        "print(s1[len(s1)//2])      #middle of the string  \n",
        "print(s1[-1::-1])          #reverse of the string\n",
        "print(s1[-1:-3:-1])        #access the last two characters in reverse order\n",
        "print(s1[::2])             #to access the alternate of two characters(prints only 1st character for every 2 numbers )\n",
        "print(s1[::3])             #to access the alternate of three characters(prints only 1st character for every 3 numbers )\n",
        "print(s1[::-2])            #to access the reverse of alternate characters\n"
      ],
      "execution_count": 0,
      "outputs": [
        {
          "output_type": "stream",
          "text": [
            "ytho\n",
            "h\n",
            "nohtyP\n",
            "no\n",
            "Pto\n",
            "Ph\n",
            "nhy\n"
          ],
          "name": "stdout"
        }
      ]
    },
    {
      "cell_type": "code",
      "metadata": {
        "id": "_0YVFFe6lAXC",
        "colab_type": "code",
        "outputId": "d89fa996-9bda-43f9-f34b-9f142ab89e59",
        "colab": {
          "base_uri": "https://localhost:8080/",
          "height": 34
        }
      },
      "source": [
        "def reversestring(str):\n",
        "    return str[-1::-1]\n",
        "reversestring(\"programing\")"
      ],
      "execution_count": 0,
      "outputs": [
        {
          "output_type": "execute_result",
          "data": {
            "text/plain": [
              "'gnimargorp'"
            ]
          },
          "metadata": {
            "tags": []
          },
          "execution_count": 25
        }
      ]
    },
    {
      "cell_type": "code",
      "metadata": {
        "id": "QQ2Vz0uCoNhO",
        "colab_type": "code",
        "outputId": "7d443252-a7cd-4f43-84b4-8eaf07603dec",
        "colab": {
          "base_uri": "https://localhost:8080/",
          "height": 51
        }
      },
      "source": [
        "def ispalindrome(str):\n",
        "    if str == str[-1::-1]:\n",
        "        return True\n",
        "    else:\n",
        "        return False\n",
        "    return\n",
        "print(ispalindrome(\"python\"))\n",
        "print(ispalindrome(\"ganag\"))"
      ],
      "execution_count": 0,
      "outputs": [
        {
          "output_type": "stream",
          "text": [
            "False\n",
            "True\n"
          ],
          "name": "stdout"
        }
      ]
    },
    {
      "cell_type": "markdown",
      "metadata": {
        "id": "RmEMasdysHyI",
        "colab_type": "text"
      },
      "source": [
        "##String bulit-in methods\n",
        "1. Upper( ) -- will convert the input string into upper case\n",
        "2. lower( ) -- will convert the input string into lower case"
      ]
    },
    {
      "cell_type": "code",
      "metadata": {
        "id": "VeNj4xlXplzo",
        "colab_type": "code",
        "outputId": "837ba398-7ea6-4f42-e5aa-7843d2f16a51",
        "colab": {
          "base_uri": "https://localhost:8080/",
          "height": 51
        }
      },
      "source": [
        "s1 = 'python'\n",
        "print(s1.upper())\n",
        "print(s1.lower())"
      ],
      "execution_count": 0,
      "outputs": [
        {
          "output_type": "stream",
          "text": [
            "PYTHON\n",
            "python\n"
          ],
          "name": "stdout"
        }
      ]
    },
    {
      "cell_type": "code",
      "metadata": {
        "id": "joUZiRaaslkZ",
        "colab_type": "code",
        "outputId": "302989f4-6778-4c60-b3f9-64d3e4a495a4",
        "colab": {
          "base_uri": "https://localhost:8080/",
          "height": 51
        }
      },
      "source": [
        "s1 = \"python\"\n",
        "print(s1.islower())\n",
        "print(s1.isupper())"
      ],
      "execution_count": 0,
      "outputs": [
        {
          "output_type": "stream",
          "text": [
            "True\n",
            "False\n"
          ],
          "name": "stdout"
        }
      ]
    },
    {
      "cell_type": "code",
      "metadata": {
        "id": "hKZYNYGqtELG",
        "colab_type": "code",
        "outputId": "a3f803d5-6342-4cfb-be1c-ae18f9017d74",
        "colab": {
          "base_uri": "https://localhost:8080/",
          "height": 51
        }
      },
      "source": [
        "s1 = \"py123456\"\n",
        "s2 = \"python\"\n",
        "print(s1.isalpha())\n",
        "print(s2.isalpha())"
      ],
      "execution_count": 0,
      "outputs": [
        {
          "output_type": "stream",
          "text": [
            "False\n",
            "True\n"
          ],
          "name": "stdout"
        }
      ]
    },
    {
      "cell_type": "markdown",
      "metadata": {
        "id": "YCMf8TMutrAp",
        "colab_type": "text"
      },
      "source": [
        "##String Methods\n",
        "- join( ) -- method will concatinates the two strings.\n",
        "- Split( ) -- split( ) returnds the list of strings seperated by whitespace.\n",
        "- replace( ) -- replaces the specific word or character with new word/character'"
      ]
    },
    {
      "cell_type": "code",
      "metadata": {
        "id": "qmn0s1Bvug8r",
        "colab_type": "code",
        "outputId": "d928f3a0-20ba-4e56-91af-290674757371",
        "colab": {
          "base_uri": "https://localhost:8080/",
          "height": 34
        }
      },
      "source": [
        "s1 = 'python'\n",
        "print(\" \".join(s1))"
      ],
      "execution_count": 0,
      "outputs": [
        {
          "output_type": "stream",
          "text": [
            "p y t h o n\n"
          ],
          "name": "stdout"
        }
      ]
    },
    {
      "cell_type": "code",
      "metadata": {
        "id": "biJ2eQRMup6w",
        "colab_type": "code",
        "outputId": "347202f6-f0a3-44d4-e000-795ac2b1790f",
        "colab": {
          "base_uri": "https://localhost:8080/",
          "height": 34
        }
      },
      "source": [
        "s2 = \"python programing easy to learn\"\n",
        "print(\",\".join(s2))"
      ],
      "execution_count": 0,
      "outputs": [
        {
          "output_type": "stream",
          "text": [
            "p,y,t,h,o,n, ,p,r,o,g,r,a,m,i,n,g, ,e,a,s,y, ,t,o, ,l,e,a,r,n\n"
          ],
          "name": "stdout"
        }
      ]
    },
    {
      "cell_type": "code",
      "metadata": {
        "id": "Gr9CI6y3u-mh",
        "colab_type": "code",
        "outputId": "5d00dfca-597b-404c-849d-0ca2f61056e5",
        "colab": {
          "base_uri": "https://localhost:8080/",
          "height": 34
        }
      },
      "source": [
        "li= ['python,programing,learn']\n",
        "print(\",\".join(li))"
      ],
      "execution_count": 0,
      "outputs": [
        {
          "output_type": "stream",
          "text": [
            "python,programing,learn\n"
          ],
          "name": "stdout"
        }
      ]
    },
    {
      "cell_type": "code",
      "metadata": {
        "id": "1j_rWfqMvTmA",
        "colab_type": "code",
        "outputId": "68e9b64c-0ebe-48b4-f27c-7b278dc4fcb4",
        "colab": {
          "base_uri": "https://localhost:8080/",
          "height": 34
        }
      },
      "source": [
        "s2= \"python programing easy to learn\"\n",
        "print(s2.split())"
      ],
      "execution_count": 0,
      "outputs": [
        {
          "output_type": "stream",
          "text": [
            "['python', 'programing', 'easy', 'to', 'learn']\n"
          ],
          "name": "stdout"
        }
      ]
    },
    {
      "cell_type": "code",
      "metadata": {
        "id": "VfHYl_1jvs35",
        "colab_type": "code",
        "outputId": "dc0267e5-58ea-47a9-de58-c99bd287c53b",
        "colab": {
          "base_uri": "https://localhost:8080/",
          "height": 34
        }
      },
      "source": [
        "s2= \"python programing easy to learn\"\n",
        "print(s2.split('a'))"
      ],
      "execution_count": 0,
      "outputs": [
        {
          "output_type": "stream",
          "text": [
            "['python progr', 'ming e', 'sy to le', 'rn']\n"
          ],
          "name": "stdout"
        }
      ]
    },
    {
      "cell_type": "code",
      "metadata": {
        "id": "T52EXEE4v5JZ",
        "colab_type": "code",
        "outputId": "3d0c5401-79fa-42df-bcde-5a627f00970b",
        "colab": {
          "base_uri": "https://localhost:8080/",
          "height": 68
        }
      },
      "source": [
        "s2= \"python programing easy to learn\"\n",
        "print(len(s2))\n",
        "li= s2.split()\n",
        "print(li)\n",
        "print(len(li))"
      ],
      "execution_count": 0,
      "outputs": [
        {
          "output_type": "stream",
          "text": [
            "31\n",
            "['python', 'programing', 'easy', 'to', 'learn']\n",
            "5\n"
          ],
          "name": "stdout"
        }
      ]
    },
    {
      "cell_type": "code",
      "metadata": {
        "id": "LNKFaLgdwb9g",
        "colab_type": "code",
        "outputId": "cc07bf1b-9bc7-42a7-9335-718d84c72945",
        "colab": {
          "base_uri": "https://localhost:8080/",
          "height": 34
        }
      },
      "source": [
        "s2 = \"python programing easy to learn\"\n",
        "li=list(s2)\n",
        "print(li)"
      ],
      "execution_count": 0,
      "outputs": [
        {
          "output_type": "stream",
          "text": [
            "['p', 'y', 't', 'h', 'o', 'n', ' ', 'p', 'r', 'o', 'g', 'r', 'a', 'm', 'i', 'n', 'g', ' ', 'e', 'a', 's', 'y', ' ', 't', 'o', ' ', 'l', 'e', 'a', 'r', 'n']\n"
          ],
          "name": "stdout"
        }
      ]
    },
    {
      "cell_type": "code",
      "metadata": {
        "id": "AsPWCYnMxDOQ",
        "colab_type": "code",
        "outputId": "1b0c0083-2b3a-4df6-f143-847308714749",
        "colab": {
          "base_uri": "https://localhost:8080/",
          "height": 34
        }
      },
      "source": [
        "s2 = \"python programing easy to learn\"\n",
        "print(s2.replace(\"gra\",\"application\"))"
      ],
      "execution_count": 0,
      "outputs": [
        {
          "output_type": "stream",
          "text": [
            "python proapplicationming easy to learn\n"
          ],
          "name": "stdout"
        }
      ]
    },
    {
      "cell_type": "code",
      "metadata": {
        "id": "7jYQK55hxdWp",
        "colab_type": "code",
        "colab": {}
      },
      "source": [
        ""
      ],
      "execution_count": 0,
      "outputs": []
    }
  ]
}